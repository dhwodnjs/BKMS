{
  "nbformat": 4,
  "nbformat_minor": 0,
  "metadata": {
    "colab": {
      "provenance": []
    },
    "kernelspec": {
      "name": "python3",
      "display_name": "Python 3"
    },
    "language_info": {
      "name": "python"
    }
  },
  "cells": [
    {
      "cell_type": "markdown",
      "metadata": {
        "id": "ONojGQx_Fn4d"
      },
      "source": [
        "## Binary Quantization"
      ]
    },
    {
      "cell_type": "markdown",
      "source": [
        "* 벡터의 각 차원을 1비트로 변환하여 메모리 절약\n",
        "* 양수는 1, 음수는 0으로 변환하여 방향성만 유지\n",
        "* 메모리 효율성과 처리 속도를 높이지만, 정확도가 떨어질 수 있음\n",
        "* similarity search 진행 시, oversampling 후 re-ranking 하는 방식으로 보완 가능"
      ],
      "metadata": {
        "id": "y_YFKAH72cMb"
      }
    },
    {
      "cell_type": "code",
      "source": [
        "import numpy as np\n",
        "import matplotlib.pyplot as plt\n",
        "import seaborn as sns\n",
        "import h5py\n",
        "import time\n",
        "\n",
        "f = h5py.File('openai_embedding_output.hdf5','r')\n",
        "distances = f['distances']\n",
        "neighbors = f['neighbors']\n",
        "test = f['test']\n",
        "train = f['train']"
      ],
      "metadata": {
        "id": "yzySiIBO3lHR"
      },
      "execution_count": 13,
      "outputs": []
    },
    {
      "cell_type": "code",
      "execution_count": 17,
      "metadata": {
        "id": "mOiDlF2hFn4d"
      },
      "outputs": [],
      "source": [
        "import numpy as np\n",
        "from scipy.spatial.distance import hamming, cosine\n",
        "\n",
        "class BinaryQuantization:\n",
        "    def __init__(self, vectors):\n",
        "        self.full_vectors = vectors\n",
        "        self.vectors = self.binary_quantization(vectors)\n",
        "\n",
        "    def binary_quantization(self, vectors):\n",
        "        return np.where(vectors >= 0, 1, 0)\n",
        "\n",
        "    def search(self, query, k):\n",
        "        query_bin = self.binary_quantization(query)\n",
        "        distances = np.array([hamming(query_bin, vec_bin) for vec_bin in self.vectors])\n",
        "        closest_index = np.argsort(distances)[:k]\n",
        "\n",
        "        return [(idx, distances[idx]) for idx in closest_index]\n",
        "\n",
        "    def full_search(self, query, filtered_idx, k):\n",
        "\n",
        "        distances = np.array([cosine(query, vec) for vec in self.full_vectors[filtered_idx]])\n",
        "        closest_index = np.argsort(distances)[:k]\n",
        "\n",
        "        return [(filtered_idx[idx], distances[idx]) for idx in closest_index]\n"
      ]
    },
    {
      "cell_type": "code",
      "execution_count": 19,
      "metadata": {
        "id": "IL9Vdl8FFn4d"
      },
      "outputs": [],
      "source": [
        "bq = BinaryQuantization(train[:])"
      ]
    },
    {
      "cell_type": "code",
      "execution_count": 20,
      "metadata": {
        "id": "OXr_ham4Fn4d",
        "outputId": "38fa26b8-8705-4fad-ca97-b53ff5ca2da5",
        "colab": {
          "base_uri": "https://localhost:8080/"
        }
      },
      "outputs": [
        {
          "output_type": "execute_result",
          "data": {
            "text/plain": [
              "[(199, 0.263671875),\n",
              " (270, 0.2734375),\n",
              " (520, 0.2786458333333333),\n",
              " (791, 0.28125),\n",
              " (498, 0.2916666666666667)]"
            ]
          },
          "metadata": {},
          "execution_count": 20
        }
      ],
      "source": [
        "bq.search(test[0], 5)"
      ]
    },
    {
      "cell_type": "code",
      "execution_count": 21,
      "metadata": {
        "id": "TSHn98bOFn4d",
        "outputId": "056200af-a1dd-4fb4-a42e-da92b09b4c47",
        "colab": {
          "base_uri": "https://localhost:8080/"
        }
      },
      "outputs": [
        {
          "output_type": "execute_result",
          "data": {
            "text/plain": [
              "[(791, 0.18023627996444702),\n",
              " (199, 0.18199849128723145),\n",
              " (270, 0.19761407375335693),\n",
              " (498, 0.20239192247390747),\n",
              " (320, 0.20566928386688232)]"
            ]
          },
          "metadata": {},
          "execution_count": 21
        }
      ],
      "source": [
        "[(n, d) for d, n in zip(distances[0][:5], neighbors[0][:5])]"
      ]
    },
    {
      "cell_type": "code",
      "execution_count": 22,
      "metadata": {
        "id": "a1M0MxRMFn4d",
        "outputId": "93abaefb-836c-4dd5-8818-fe94735b9052",
        "colab": {
          "base_uri": "https://localhost:8080/"
        }
      },
      "outputs": [
        {
          "output_type": "stream",
          "name": "stdout",
          "text": [
            "accuracy : 0.682, qps : 77.70893461991524\n"
          ]
        }
      ],
      "source": [
        "## search speed and accuracy\n",
        "accuracies_bq = []\n",
        "times = []\n",
        "\n",
        "for i in range(len(test)):\n",
        "    start = time.time()\n",
        "    search_result = bq.search(test[i], 5)\n",
        "    times.append(time.time() - start)\n",
        "\n",
        "    acc = len(set(neighbors[i][:5]) & set([idx for idx, _ in search_result])) / 5\n",
        "    accuracies_bq.append(acc)\n",
        "\n",
        "print(f\"accuracy : {np.mean(accuracies_bq)}, qps : {1 / np.sum(times) * 100}\")\n"
      ]
    },
    {
      "cell_type": "code",
      "execution_count": 23,
      "metadata": {
        "id": "eDcZkzeAFn4d",
        "outputId": "68fddece-0409-4433-cc5a-349e194d5177",
        "colab": {
          "base_uri": "https://localhost:8080/"
        }
      },
      "outputs": [
        {
          "output_type": "stream",
          "name": "stdout",
          "text": [
            "accuracy : 0.8220000000000001\n"
          ]
        }
      ],
      "source": [
        "## BQ만으로는 성능 부족 -> over-filtering 후 re-ranking 필요\n",
        "qps_bq = []\n",
        "\n",
        "## over-filtering\n",
        "k = 20\n",
        "\n",
        "for i in range(len(test)):\n",
        "    search_result = bq.search(test[i], k)\n",
        "    filtered_idx = np.array([idx for idx, _ in search_result])\n",
        "    search_result = bq.full_search(test[i], filtered_idx, 5)\n",
        "    acc = len(set(neighbors[i][:5]) & set([idx for idx, _ in search_result])) / 5\n",
        "    accuracies_bq.append(acc)\n",
        "\n",
        "print(f\"accuracy : {np.mean(accuracies_bq)}\")"
      ]
    },
    {
      "cell_type": "code",
      "execution_count": 23,
      "metadata": {
        "id": "_rO8W0y_Fn4d"
      },
      "outputs": [],
      "source": []
    },
    {
      "cell_type": "markdown",
      "source": [
        "## Homework (내일까지 요구사항 및 skeleton/성능평가 코드 구체화 예정)\n",
        "* IVF, HNSW에 binary quantization 적용 (index build/search)\n",
        "* 정확도 저하 시 oversampling 및 re-ranking 적용\n",
        "* 적용 이후 기존의 IVF, HNSW와 성능 비교 (recall, qps, 메모리 사용량 등)\n"
      ],
      "metadata": {
        "id": "WeQF82Fsoxz6"
      }
    },
    {
      "cell_type": "code",
      "source": [],
      "metadata": {
        "id": "JMKzXrB_2Kh9"
      },
      "execution_count": null,
      "outputs": []
    },
    {
      "cell_type": "code",
      "source": [
        "from heapq import heapify, heappop, heappush, heapreplace, nlargest\n",
        "from math import log2\n",
        "from operator import itemgetter\n",
        "from random import random\n",
        "import numpy as np\n",
        "\n",
        "class HNSWBQ(object):\n",
        "    #### HNSW 코드를 적절히 변형\n",
        "\n",
        "    def l2_distance(self, a, b):\n",
        "        return np.linalg.norm(a - b)\n",
        "\n",
        "    def cosine_distance(self, a, b):\n",
        "        try:\n",
        "            return 1 - np.dot(a, b) / (np.linalg.norm(a) * np.linalg.norm(b))\n",
        "        except ValueError:\n",
        "            print(a)\n",
        "            print(b)\n",
        "\n",
        "    def hamming_distance(self, a, b):\n",
        "\n",
        "        # Count differing bits (Hamming distance) between two binary vectors\n",
        "        return np.sum(a != b)\n",
        "\n",
        "    def binary_quantize_vector(self, vec):\n",
        "        return np.where(vec >= 0, 1, 0)\n",
        "\n",
        "    def vectorized_distance_(self, x, ys):\n",
        "        return [self.distance_func(x, y) for y in ys]\n",
        "\n",
        "    def __init__(self, distance_type, M=5, efConstruction=200, Mmax=None, binary_quantize=False):\n",
        "        if distance_type == \"l2\":\n",
        "            distance_func = self.l2_distance\n",
        "        elif distance_type == \"cosine\":\n",
        "            distance_func = self.cosine_distance\n",
        "        elif distance_type == \"hamming\" and binary_quantize:\n",
        "            distance_func = self.hamming_distance\n",
        "        else:\n",
        "            raise TypeError('Please check your distance type!')\n",
        "\n",
        "        self.distance_func = distance_func\n",
        "        self.vectorized_distance = self.vectorized_distance_\n",
        "        self._M = M\n",
        "        self._efConstruction = efConstruction\n",
        "        self._Mmax = 2 * M if Mmax is None else Mmax\n",
        "        self._level_mult = 1 / log2(M)\n",
        "        self._graphs = []\n",
        "        self._enter_point = None\n",
        "        self.data = []\n",
        "        self.visit_count = 0\n",
        "        self.binary_quantize = binary_quantize\n",
        "\n",
        "    def binarize(self):\n",
        "        self.binary_data = self.binary_quantize_vector(self.data)\n",
        "\n",
        "    ### Algorithm 1: INSERT\n",
        "    def insert(self, q, efConstruction=None):\n",
        "\n",
        "        if efConstruction is None:\n",
        "            efConstruction = self._efConstruction\n",
        "\n",
        "        distance = self.distance_func\n",
        "        data = self.data\n",
        "        graphs = self._graphs\n",
        "        ep = self._enter_point\n",
        "        M = self._M\n",
        "\n",
        "        # line 4: determine level for the new element q\n",
        "        l = int(-log2(random()) * self._level_mult) + 1\n",
        "        idx = len(data)\n",
        "        data.append(q)\n",
        "\n",
        "        if ep is not None:\n",
        "            neg_dist = -distance(q, data[ep])\n",
        "\n",
        "            # line 5-7: find the closest neighbor for levels above the insertion level\n",
        "            for lc in reversed(graphs[l:]):\n",
        "                neg_dist, ep = self._search_layer(q, [(neg_dist, ep)], lc, 1)[0]\n",
        "\n",
        "            # line 8-17: insert q at the relevant levels; W is a candidate list\n",
        "            layer0 = graphs[0]\n",
        "            for lc in reversed(graphs[:l]):\n",
        "                M_layer = M if lc is not layer0 else self._Mmax\n",
        "\n",
        "                # line 9: update W with the closest nodes found in the graph\n",
        "                W = self._search_layer(q, [(neg_dist, ep)], lc, efConstruction)\n",
        "\n",
        "                # line 10: insert the best neighbors for q at this layer\n",
        "                lc[idx] = layer_idx = {}\n",
        "                self._select(layer_idx, W, M_layer, lc, heap=True)\n",
        "\n",
        "                # line 11-13: insert bidirectional links to the new node\n",
        "                for j, dist in layer_idx.items():\n",
        "                    self._select(lc[j], (idx, dist), M_layer, lc)\n",
        "\n",
        "        # line 18: create empty graphs for all new levels\n",
        "        for _ in range(len(graphs), l):\n",
        "            graphs.append({idx: {}})\n",
        "            self._enter_point = idx\n",
        "\n",
        "    ### Algorithm 5: K-NN-SEARCH\n",
        "    def search(self, q, K=5, efSearch=20):\n",
        "        \"\"\"Find the K points closest to q.\"\"\"\n",
        "\n",
        "        distance = self.distance_func\n",
        "        graphs = self._graphs\n",
        "        ep = self._enter_point\n",
        "        self.visit_count = 0\n",
        "\n",
        "        if self.binary_quantize:\n",
        "            data = self.binary_data\n",
        "            q = self.binary_quantize_vector(q)\n",
        "\n",
        "        if ep is None:\n",
        "            raise ValueError(\"Empty graph\")\n",
        "\n",
        "        neg_dist = -distance(q, data[ep])\n",
        "\n",
        "        # line 1-5: search from top layers down to the second level\n",
        "        for lc in reversed(graphs[1:]):\n",
        "            neg_dist, ep = self._search_layer(q, [(neg_dist, ep)], lc, 1)[0]\n",
        "\n",
        "        # line 6: search with efSearch neighbors at the bottom level\n",
        "        W = self._search_layer(q, [(neg_dist, ep)], graphs[0], efSearch)\n",
        "\n",
        "        if K is not None:\n",
        "            W = nlargest(K, W)\n",
        "        else:\n",
        "            W.sort(reverse=True)\n",
        "\n",
        "        return [(idx, -md) for md, idx in W]\n",
        "\n",
        "    ### Algorithm 2: SEARCH-LAYER\n",
        "    def _search_layer(self, q, W, lc, ef):\n",
        "\n",
        "        vectorized_distance = self.vectorized_distance\n",
        "        data = self.data\n",
        "\n",
        "        # Step 1: Initialize candidate list and visited set\n",
        "        C = [(-neg_dist, idx) for neg_dist, idx in W]\n",
        "        heapify(C)\n",
        "        heapify(W)\n",
        "        visited = set(idx for _, idx in W)\n",
        "\n",
        "        # Step 4-17: Explore neighbors until candidate list is exhausted\n",
        "        while C:\n",
        "            dist, c = heappop(C)\n",
        "            furthest = -W[0][0]\n",
        "            if dist > furthest:\n",
        "                break\n",
        "            neighbors = [e for e in lc[c] if e not in visited]\n",
        "            visited.update(neighbors)\n",
        "            dists = vectorized_distance(q, [data[e] for e in neighbors])\n",
        "            for e, dist in zip(neighbors, dists):\n",
        "                self.visit_count += 1\n",
        "                neg_dist = -dist\n",
        "                if len(W) < ef:\n",
        "                    heappush(C, (dist, e))\n",
        "                    heappush(W, (neg_dist, e))\n",
        "                    furthest = -W[0][0]\n",
        "                elif dist < furthest:\n",
        "                    heappush(C, (dist, e))\n",
        "                    heapreplace(W, (neg_dist, e))\n",
        "                    furthest = -W[0][0]\n",
        "\n",
        "        return W\n",
        "\n",
        "    ### Algorithm 3: SELECT-NEIGHBORS-SIMPLE\n",
        "    def _select(self, R, C, M, lc, heap=False):\n",
        "\n",
        "        if not heap:\n",
        "            idx, dist = C\n",
        "            if len(R) < M:\n",
        "                R[idx] = dist\n",
        "            else:\n",
        "                max_idx, max_dist = max(R.items(), key=itemgetter(1))\n",
        "                if dist < max_dist:\n",
        "                    del R[max_idx]\n",
        "                    R[idx] = dist\n",
        "            return\n",
        "\n",
        "        else:\n",
        "            C = nlargest(M, C)\n",
        "            R.update({idx: -neg_dist for neg_dist, idx in C})\n"
      ],
      "metadata": {
        "id": "R4JiyMC1giI6"
      },
      "execution_count": 24,
      "outputs": []
    },
    {
      "cell_type": "code",
      "execution_count": 25,
      "metadata": {
        "id": "HKu1yLdOkKRq"
      },
      "outputs": [],
      "source": [
        "hnswbq = HNSWBQ(distance_type=\"hamming\", binary_quantize=True)\n",
        "\n",
        "\n",
        "for i in range(len(train)):\n",
        "    hnswbq.insert(train[i])\n"
      ]
    },
    {
      "cell_type": "code",
      "execution_count": 29,
      "metadata": {
        "id": "Eh56F6tAkKRr"
      },
      "outputs": [],
      "source": [
        "efs = [10, 20, 30, 40, 50, 100]\n",
        "accuracies_hnsw = []\n",
        "qps_hnsw = []\n",
        "\n",
        "for ef in efs:\n",
        "\n",
        "    query_acc = []\n",
        "    query_per_second = []\n",
        "\n",
        "    for i in range(len(test)):\n",
        "        start = time.time()\n",
        "        search_result = hnswbq.search(test[i], ef, ef)\n",
        "        query_per_second.append(1 / (time.time() - start))\n",
        "\n",
        "        acc = len(set(neighbors[i][:5]) & set([idx for idx, _ in search_result])) / 5\n",
        "        query_acc.append(acc)\n",
        "\n",
        "    qps_hnsw.append(np.mean(query_per_second))\n",
        "    accuracies_hnsw.append(np.mean(query_acc))\n",
        "\n",
        "\n",
        "for ef, acc, qp in zip(efs, accuracies_hnsw, qps_hnsw):\n",
        "    print(f\"ef : {ef}, accuracy : {acc}, qps : {qp}\")\n"
      ]
    },
    {
      "cell_type": "code",
      "execution_count": null,
      "metadata": {
        "outputId": "1039da61-cb05-48b2-bc8d-51d9361393b4",
        "colab": {
          "base_uri": "https://localhost:8080/",
          "height": 467
        },
        "id": "sIl_YWXNkKRr"
      },
      "outputs": [
        {
          "output_type": "execute_result",
          "data": {
            "text/plain": [
              "<matplotlib.legend.Legend at 0x79baa1963550>"
            ]
          },
          "metadata": {},
          "execution_count": 39
        },
        {
          "output_type": "display_data",
          "data": {
            "text/plain": [
              "<Figure size 640x480 with 1 Axes>"
            ],
            "image/png": "[encoded data removed]"
          },
          "metadata": {}
        }
      ],
      "source": [
        "sns.lineplot(x = accuracies_hnsw, y = qps_hnsw)\n",
        "sns.scatterplot(x = accuracies_hnsw, y = qps_hnsw, hue = efs, s = 50)\n",
        "plt.xlabel(\"accuracy(recall)\")\n",
        "plt.ylabel(\"query per second\")\n",
        "plt.legend(title = \"ef_search\")"
      ]
    }
  ]
}